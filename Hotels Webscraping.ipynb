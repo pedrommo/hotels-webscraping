{
 "cells": [
  {
   "cell_type": "markdown",
   "metadata": {},
   "source": [
    "# Hotels Webscraping\n",
    "## Tripadvisor\n",
    "### Changes may be required due to Tripadvisor's continous updates"
   ]
  },
  {
   "cell_type": "markdown",
   "metadata": {},
   "source": [
    "### Load packages and do the initializations"
   ]
  },
  {
   "cell_type": "code",
   "execution_count": 31,
   "metadata": {},
   "outputs": [],
   "source": [
    "# Load libraries\n",
    "import numpy as np\n",
    "import pandas as pd\n",
    "from urllib.request import urlopen\n",
    "from bs4 import BeautifulSoup\n",
    "import ssl\n",
    "from selenium import webdriver\n",
    "from selenium.webdriver.firefox.firefox_binary import FirefoxBinary\n",
    "from selenium.webdriver.firefox.options import Options\n",
    "import time"
   ]
  },
  {
   "cell_type": "code",
   "execution_count": 32,
   "metadata": {},
   "outputs": [],
   "source": [
    "# Allow not verified SSL (Secure Socket Layer) certificates to be opened\n",
    "ssl._create_default_https_context = ssl._create_unverified_context"
   ]
  },
  {
   "cell_type": "code",
   "execution_count": 33,
   "metadata": {},
   "outputs": [],
   "source": [
    "# Get Firefox options (configurations)\n",
    "options = Options()\n",
    "\n",
    "# Add this argument to Options to hide Firefox (make it not visible)\n",
    "# options.add_argument('--headless') "
   ]
  },
  {
   "cell_type": "code",
   "execution_count": 34,
   "metadata": {},
   "outputs": [],
   "source": [
    "# Load the list of the hotels to read the content\n",
    "hotelsToScrap = pd.read_excel(\"HotelsToScrap.xlsx\", sheet_name=\"Sheet1\", index_col=\"ID\", engine='openpyxl')\n"
   ]
  },
  {
   "cell_type": "code",
   "execution_count": 35,
   "metadata": {},
   "outputs": [],
   "source": [
    "# Create an empty dataframe for the resuls\n",
    "hotelReviews = pd.DataFrame({'hotelID': pd.Series([], dtype='string'),\n",
    "                             'user': pd.Series([], dtype='string'),\n",
    "                             'rating': pd.Series([], dtype='float'),\n",
    "                             'text': pd.Series([], dtype='string'),\n",
    "                             'user location': pd.Series([], dtype = 'string'),\n",
    "                             'date': pd.Series([], dtype = 'string')\n",
    "                             })"
   ]
  },
  {
   "cell_type": "markdown",
   "metadata": {},
   "source": [
    "### Functions to use in the Main Loop"
   ]
  },
  {
   "cell_type": "code",
   "execution_count": 36,
   "metadata": {},
   "outputs": [],
   "source": [
    "# Open page and read HTML\n",
    "def openPageReadHTML(url):\n",
    "\n",
    "    # Open Firefox with Selenium\n",
    "    #browser = webdriver.Firefox(firefox_binary=binary, options=options)\n",
    "    browser = webdriver.Firefox(options=options, executable_path = r'C:\\(...)\\geckodriver.exe') # geckodriver executable path here\n",
    "    browser.get(url)\n",
    "\n",
    "    # If there is a privacy pop-up, click the OK button\n",
    "    privacy_button = browser.find_elements_by_id(\"_evidon-accept-button\")\n",
    "    if len(privacy_button)>0:\n",
    "        browser.execute_script(\"arguments[0].click()\", privacy_button[0])\n",
    "        time.sleep(0.5) # Wait half a second\n",
    "\n",
    "    # Try to move into first review and click the button \n",
    "    # Some times it takes some time to load the page\n",
    "    clicked_button=False\n",
    "    while not clicked_button:\n",
    "        read_more_buttons = browser.find_elements_by_class_name(\"_3maEfNCR\")\n",
    "        if len(read_more_buttons) > 0:\n",
    "            try: \n",
    "                browser.execute_script(\"arguments[0].scrollIntoView(true);\", read_more_buttons[0])\n",
    "                browser.execute_script(\"arguments[0].click()\", read_more_buttons[0])\n",
    "                time.sleep(0.5) # Wait half a second\n",
    "                clicked_button=True\n",
    "            except:\n",
    "                # Wait for one second to retry\n",
    "                time.sleep(1)\n",
    "        else:\n",
    "            # Wait for one second to retry\n",
    "            time.sleep(1)\n",
    "\n",
    "    # Read the content close de browser\n",
    "    html_source = browser.page_source  \n",
    "    browser.quit()\n",
    "\n",
    "    # Transform the html into a BeautifulSoup object\n",
    "    soupObj = BeautifulSoup(html_source) \n",
    "\n",
    "    return soupObj"
   ]
  },
  {
   "cell_type": "code",
   "execution_count": 37,
   "metadata": {},
   "outputs": [],
   "source": [
    "# Process each page\n",
    "def processPage(soupObj, hotelID, extractedDF):\n",
    "\n",
    "    # Read reviews\n",
    "    reviews = soupObj.find_all(\"div\", {\"data-test-target\": \"reviews-tab\"})\n",
    "\n",
    "    # Get the list of reviews\n",
    "    reviewsList = reviews[0].select(\"div[class*=_3hFEdNs8]\")\n",
    "\n",
    "    # Loop thru each review\n",
    "    for i in range(0,len(reviewsList)):\n",
    "        \n",
    "        # Get Rating\n",
    "        r1 = reviewsList[i].select(\"span[class*=ui_bubble_rating]\")\n",
    "        r2 = r1[0][\"class\"][1]\n",
    "        reviewRating = int(''.join(filter(str.isdigit, r2)))/10\n",
    "\n",
    "        # Get User\n",
    "        user = reviewsList[i].select(\"a[class*=ui_header_link]\")[0].string\n",
    "\n",
    "        # Get review text\n",
    "        t = reviewsList[i].select(\"q[class*=IRsGHoPm]\")[0]\n",
    "        reviewText = t.get_text()\n",
    "        \n",
    "        # Get the user location        \n",
    "        userLocation = reviewsList[i].select('span[class*=_2kj8kWkW]')\n",
    "        #userLocation2 = userLocation[0]\n",
    "        userLocation3 = \" \".join(str(x) for x in userLocation)\n",
    "        \n",
    "        #userLocation4 = userLocation3.find('_2kj8kWkW')\n",
    "        \n",
    "        if len(userLocation3) >0:\n",
    "            reviewUserLocation = reviewsList[i].select('span[class*=_3J15flPT]')[0].get_text()\n",
    "  \n",
    "        else:\n",
    "            reviewUserLocation = ''\n",
    "        \n",
    "        # Get review date\n",
    "        date = reviewsList[i].select('div[class*=_2fxQ4TOx]')[0].get_text()\n",
    "        \n",
    "        cutStart_date = date.find('wrote a review ')\n",
    "        cutStartSum_date = len('wrote a review ')\n",
    "\n",
    "        reviewDate = date[cutStart_date+cutStartSum_date:]\n",
    "\n",
    "        # Update extracted reviews dataframe\n",
    "        extractedDF = extractedDF.append({'hotelID': hotelID,\n",
    "                             'user': user,\n",
    "                             'rating': reviewRating,\n",
    "                             'text': reviewText,\n",
    "                             'user location': reviewUserLocation,\n",
    "                             'date': reviewDate\n",
    "                             }, ignore_index=True)\n",
    "\n",
    "    # Return the resulting dataframe\n",
    "    return extractedDF"
   ]
  },
  {
   "cell_type": "markdown",
   "metadata": {},
   "source": [
    "### Main loop"
   ]
  },
  {
   "cell_type": "code",
   "execution_count": 38,
   "metadata": {},
   "outputs": [],
   "source": [
    "# Here I define the number of reviews to gather per hotel. This number can be changed\n",
    "reviewsToGet = 15"
   ]
  },
  {
   "cell_type": "code",
   "execution_count": 39,
   "metadata": {},
   "outputs": [
    {
     "name": "stdout",
     "output_type": "stream",
     "text": [
      "Processing hotel Sheraton\n",
      "Extracted  5 / 15\n",
      "Extracted  10 / 15\n",
      "Extracted  15 / 15\n",
      "Processing hotel CorpoSanto\n",
      "Extracted  5 / 15\n",
      "Extracted  10 / 15\n",
      "Extracted  15 / 15\n",
      "Processing hotel Myriad\n",
      "Extracted  5 / 15\n",
      "Extracted  10 / 15\n",
      "Extracted  15 / 15\n",
      "Processing hotel AvenidaPalace\n",
      "Extracted  5 / 15\n",
      "Extracted  10 / 15\n",
      "Extracted  15 / 15\n",
      "Processing hotel Corinthia\n",
      "Extracted  5 / 15\n",
      "Extracted  10 / 15\n",
      "Extracted  15 / 15\n"
     ]
    }
   ],
   "source": [
    "# Loop for all hotels\n",
    "for index, row in hotelsToScrap.iterrows():\n",
    "\n",
    "    # Present feedback on which hotel is being processed\n",
    "    print(\"Processing hotel\", index)\n",
    "\n",
    "    # Reset counter per hotel\n",
    "    reviewsExtracted = 0    \n",
    "\n",
    "    # Loop until it extracts the pre-defined number of reviews\n",
    "    while reviewsExtracted<reviewsToGet:\n",
    "\n",
    "        # Define URL to use based on the number of reviews extracted so far\n",
    "        urlToUse = row['URL']\n",
    "        if reviewsExtracted>0:\n",
    "            repText = \"-Reviews-or\"+str(reviewsExtracted)+\"-\"\n",
    "            urlToUse = urlToUse.replace(\"-Reviews-\",repText)\n",
    "\n",
    "        # Open and read the web page content\n",
    "        soup = openPageReadHTML(urlToUse)\n",
    "\n",
    "        # Process web page\n",
    "        hotelReviews = processPage(soup, index, hotelReviews)\n",
    "\n",
    "        # Update counter. This is just a progress bar\n",
    "        reviewsExtracted = reviewsExtracted + 5\n",
    "\n",
    "        # Present feedback on the number of extracted reviews\n",
    "        print(\"Extracted \",reviewsExtracted,\"/\",reviewsToGet)\n",
    "     "
   ]
  },
  {
   "cell_type": "code",
   "execution_count": 40,
   "metadata": {},
   "outputs": [],
   "source": [
    "# Save the extracted reviews data frame to an Excel file\n",
    "hotelReviews.to_excel(\"ExtractedReviews.xlsx\")"
   ]
  }
 ],
 "metadata": {
  "kernelspec": {
   "display_name": "Python 3",
   "language": "python",
   "name": "python3"
  },
  "language_info": {
   "codemirror_mode": {
    "name": "ipython",
    "version": 3
   },
   "file_extension": ".py",
   "mimetype": "text/x-python",
   "name": "python",
   "nbconvert_exporter": "python",
   "pygments_lexer": "ipython3",
   "version": "3.8.3"
  },
  "varInspector": {
   "cols": {
    "lenName": 16,
    "lenType": 16,
    "lenVar": 40
   },
   "kernels_config": {
    "python": {
     "delete_cmd_postfix": "",
     "delete_cmd_prefix": "del ",
     "library": "var_list.py",
     "varRefreshCmd": "print(var_dic_list())"
    },
    "r": {
     "delete_cmd_postfix": ") ",
     "delete_cmd_prefix": "rm(",
     "library": "var_list.r",
     "varRefreshCmd": "cat(var_dic_list()) "
    }
   },
   "types_to_exclude": [
    "module",
    "function",
    "builtin_function_or_method",
    "instance",
    "_Feature"
   ],
   "window_display": false
  }
 },
 "nbformat": 4,
 "nbformat_minor": 2
}
